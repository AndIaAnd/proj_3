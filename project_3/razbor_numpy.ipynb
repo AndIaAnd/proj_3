{
 "cells": [
  {
   "cell_type": "code",
   "execution_count": 1,
   "metadata": {},
   "outputs": [],
   "source": [
    "import numpy as np \n",
    "import matplotlib.pyplot as plt"
   ]
  },
  {
   "cell_type": "code",
   "execution_count": 2,
   "metadata": {},
   "outputs": [
    {
     "name": "stdout",
     "output_type": "stream",
     "text": [
      "\n",
      "        randint(low, high=None, size=None, dtype=int)\n",
      "\n",
      "        Return random integers from `low` (inclusive) to `high` (exclusive).\n",
      "\n",
      "        Return random integers from the \"discrete uniform\" distribution of\n",
      "        the specified dtype in the \"half-open\" interval [`low`, `high`). If\n",
      "        `high` is None (the default), then results are from [0, `low`).\n",
      "\n",
      "        .. note::\n",
      "            New code should use the ``integers`` method of a ``default_rng()``\n",
      "            instance instead; please see the :ref:`random-quick-start`.\n",
      "\n",
      "        Parameters\n",
      "        ----------\n",
      "        low : int or array-like of ints\n",
      "            Lowest (signed) integers to be drawn from the distribution (unless\n",
      "            ``high=None``, in which case this parameter is one above the\n",
      "            *highest* such integer).\n",
      "        high : int or array-like of ints, optional\n",
      "            If provided, one above the largest (signed) integer to be drawn\n",
      "            from the distribution (see above for behavior if ``high=None``).\n",
      "            If array-like, must contain integer values\n",
      "        size : int or tuple of ints, optional\n",
      "            Output shape.  If the given shape is, e.g., ``(m, n, k)``, then\n",
      "            ``m * n * k`` samples are drawn.  Default is None, in which case a\n",
      "            single value is returned.\n",
      "        dtype : dtype, optional\n",
      "            Desired dtype of the result. Byteorder must be native.\n",
      "            The default value is int.\n",
      "\n",
      "            .. versionadded:: 1.11.0\n",
      "\n",
      "        Returns\n",
      "        -------\n",
      "        out : int or ndarray of ints\n",
      "            `size`-shaped array of random integers from the appropriate\n",
      "            distribution, or a single such random int if `size` not provided.\n",
      "\n",
      "        See Also\n",
      "        --------\n",
      "        random_integers : similar to `randint`, only for the closed\n",
      "            interval [`low`, `high`], and 1 is the lowest value if `high` is\n",
      "            omitted.\n",
      "        Generator.integers: which should be used for new code.\n",
      "\n",
      "        Examples\n",
      "        --------\n",
      "        >>> np.random.randint(2, size=10)\n",
      "        array([1, 0, 0, 0, 1, 1, 0, 0, 1, 0]) # random\n",
      "        >>> np.random.randint(1, size=10)\n",
      "        array([0, 0, 0, 0, 0, 0, 0, 0, 0, 0])\n",
      "\n",
      "        Generate a 2 x 4 array of ints between 0 and 4, inclusive:\n",
      "\n",
      "        >>> np.random.randint(5, size=(2, 4))\n",
      "        array([[4, 0, 2, 1], # random\n",
      "               [3, 2, 2, 0]])\n",
      "\n",
      "        Generate a 1 x 3 array with 3 different upper bounds\n",
      "\n",
      "        >>> np.random.randint(1, [3, 5, 10])\n",
      "        array([2, 2, 9]) # random\n",
      "\n",
      "        Generate a 1 by 3 array with 3 different lower bounds\n",
      "\n",
      "        >>> np.random.randint([1, 5, 7], 10)\n",
      "        array([9, 8, 7]) # random\n",
      "\n",
      "        Generate a 2 by 4 array using broadcasting with dtype of uint8\n",
      "\n",
      "        >>> np.random.randint([1, 3, 5, 7], [[10], [20]], dtype=np.uint8)\n",
      "        array([[ 8,  6,  9,  7], # random\n",
      "               [ 1, 16,  9, 12]], dtype=uint8)\n",
      "        \n"
     ]
    }
   ],
   "source": [
    "print(np.random.randint.__doc__)"
   ]
  },
  {
   "cell_type": "code",
   "execution_count": 7,
   "metadata": {},
   "outputs": [
    {
     "data": {
      "text/plain": [
       "array([[ 6,  8,  7,  8],\n",
       "       [16, 12, 11, 16]], dtype=uint8)"
      ]
     },
     "execution_count": 7,
     "metadata": {},
     "output_type": "execute_result"
    }
   ],
   "source": [
    "np.random.randint([1, 3, 5, 7], [[10], [20]], dtype=np.uint8)"
   ]
  },
  {
   "cell_type": "code",
   "execution_count": 21,
   "metadata": {},
   "outputs": [],
   "source": [
    "d1 = np.array([x  for x in np.random.randint([20,2000], [168, 16800] ,size = (100, 2))])"
   ]
  },
  {
   "cell_type": "code",
   "execution_count": 22,
   "metadata": {},
   "outputs": [
    {
     "data": {
      "text/plain": [
       "array([[   99, 10447],\n",
       "       [  165,  7447],\n",
       "       [  102,  4591],\n",
       "       [  163, 13301],\n",
       "       [   88, 12288],\n",
       "       [  139, 15993],\n",
       "       [   95, 12918],\n",
       "       [   95, 11885],\n",
       "       [   49,  6112],\n",
       "       [   61, 14495],\n",
       "       [   46,  3474],\n",
       "       [   87, 16504],\n",
       "       [   63,  7196],\n",
       "       [  112,  9776],\n",
       "       [   97, 12557],\n",
       "       [   54,  4972],\n",
       "       [  138, 10167],\n",
       "       [   82, 13761],\n",
       "       [  103, 14937],\n",
       "       [  107, 10680],\n",
       "       [  106, 16173],\n",
       "       [   96,  9107],\n",
       "       [   78,  4823],\n",
       "       [  129, 15449],\n",
       "       [  100, 11071],\n",
       "       [  129,  7282],\n",
       "       [   80, 12528],\n",
       "       [  145, 15026],\n",
       "       [  134,  5009],\n",
       "       [  126,  5715],\n",
       "       [   22, 16751],\n",
       "       [  111, 13685],\n",
       "       [   61, 11950],\n",
       "       [   85,  6986],\n",
       "       [   92,  5642],\n",
       "       [   55, 13945],\n",
       "       [  160,  8783],\n",
       "       [   48,  2313],\n",
       "       [   38,  6422],\n",
       "       [   32,  2607],\n",
       "       [  160,  9196],\n",
       "       [  132, 12198],\n",
       "       [   89,  6620],\n",
       "       [   84,  5286],\n",
       "       [   86, 11161],\n",
       "       [   69,  7243],\n",
       "       [  137,  2812],\n",
       "       [  130,  5635],\n",
       "       [   49, 16614],\n",
       "       [   99,  5781],\n",
       "       [   34, 14651],\n",
       "       [   62,  6310],\n",
       "       [   21,  6679],\n",
       "       [   36,  3617],\n",
       "       [  126,  5024],\n",
       "       [  161, 14007],\n",
       "       [   48,  5752],\n",
       "       [  145,  4592],\n",
       "       [  116, 16535],\n",
       "       [  148, 15916],\n",
       "       [   68,  2264],\n",
       "       [   28, 13246],\n",
       "       [  131, 14897],\n",
       "       [   50,  6037],\n",
       "       [  127,  5939],\n",
       "       [  100, 13193],\n",
       "       [  138, 14917],\n",
       "       [  153,  9486],\n",
       "       [   97, 15390],\n",
       "       [  102, 15079],\n",
       "       [  163, 12535],\n",
       "       [  139, 15194],\n",
       "       [   94, 16133],\n",
       "       [  164, 16725],\n",
       "       [   96,  2210],\n",
       "       [  114,  2514],\n",
       "       [  116,  7037],\n",
       "       [   32, 11410],\n",
       "       [  111, 10610],\n",
       "       [  135,  3345],\n",
       "       [  163,  6832],\n",
       "       [   89, 14254],\n",
       "       [   22,  8137],\n",
       "       [  166,  8928],\n",
       "       [   59,  4045],\n",
       "       [   91,  5223],\n",
       "       [  160,  7942],\n",
       "       [   72,  2582],\n",
       "       [  159,  3119],\n",
       "       [   35, 11840],\n",
       "       [   30, 12565],\n",
       "       [   82,  2720],\n",
       "       [   76,  2601],\n",
       "       [  128, 15579],\n",
       "       [  123, 14991],\n",
       "       [   74,  5419],\n",
       "       [   63, 15435],\n",
       "       [   76, 13279],\n",
       "       [   97, 10851],\n",
       "       [   57, 15797]])"
      ]
     },
     "execution_count": 22,
     "metadata": {},
     "output_type": "execute_result"
    }
   ],
   "source": [
    "d1"
   ]
  },
  {
   "cell_type": "code",
   "execution_count": 19,
   "metadata": {},
   "outputs": [],
   "source": [
    "import sklearn.datasets as  sd "
   ]
  },
  {
   "cell_type": "code",
   "execution_count": 17,
   "metadata": {},
   "outputs": [
    {
     "name": "stdout",
     "output_type": "stream",
     "text": [
      "Calibration of predicted probabilities.\n"
     ]
    }
   ],
   "source": [
    "print(sc.__doc__)"
   ]
  },
  {
   "cell_type": "code",
   "execution_count": 20,
   "metadata": {},
   "outputs": [
    {
     "name": "stdout",
     "output_type": "stream",
     "text": [
      "\n",
      "The :mod:`sklearn.datasets` module includes utilities to load datasets,\n",
      "including methods to load and fetch popular reference datasets. It also\n",
      "features some artificial data generators.\n",
      "\n"
     ]
    }
   ],
   "source": [
    "print(sd.__doc__)"
   ]
  },
  {
   "cell_type": "code",
   "execution_count": 8,
   "metadata": {},
   "outputs": [
    {
     "data": {
      "text/plain": [
       "array([[ 0, 11],\n",
       "       [ 1,  1],\n",
       "       [ 2,  1],\n",
       "       [ 3, 14],\n",
       "       [ 4, 14],\n",
       "       [ 5, 14],\n",
       "       [ 6, 14],\n",
       "       [ 7, 14],\n",
       "       [ 8, 14],\n",
       "       [ 9, 14]])"
      ]
     },
     "execution_count": 8,
     "metadata": {},
     "output_type": "execute_result"
    }
   ],
   "source": [
    "import numpy as np\n",
    "a = np.array([(a, int((input('Введите ченить')))) for a in range(10)])\n",
    "a"
   ]
  },
  {
   "cell_type": "markdown",
   "metadata": {},
   "source": []
  },
  {
   "cell_type": "code",
   "execution_count": 10,
   "metadata": {},
   "outputs": [
    {
     "data": {
      "text/plain": [
       "array([['0', '1'],\n",
       "       ['1', '2'],\n",
       "       ['2', '3']], dtype='<U11')"
      ]
     },
     "execution_count": 10,
     "metadata": {},
     "output_type": "execute_result"
    }
   ],
   "source": [
    "import numpy as np\n",
    "a1 = int(input('Введите колличевство ожидаемых значений'))\n",
    "a = np.array([(a, (input('Введите ченить'))) for a in range(a1)]) # строковой ввод\n",
    "a"
   ]
  },
  {
   "cell_type": "code",
   "execution_count": 11,
   "metadata": {},
   "outputs": [
    {
     "name": "stdout",
     "output_type": "stream",
     "text": [
      "[[0 1]\n",
      " [1 2]\n",
      " [2 3]\n",
      " [3 4]\n",
      " [4 4]\n",
      " [5 1]\n",
      " [6 2]\n",
      " [7 2]\n",
      " [8 2]\n",
      " [9 2]]\n"
     ]
    }
   ],
   "source": [
    "import numpy as np\n",
    "\n",
    "vod = int(input('Введите 0 если хотите ввести int, иначе введите 0 для str'))\n",
    "if vod == 0:\n",
    "    a1 = int(input('Введите колличевство ожидаемых значений'))\n",
    "    a = np.array([(a, int((input('Введите ченить')))) for a in range(10)])\n",
    "    print(a)\n",
    "elif vod == 1:\n",
    "    a2 = int(input('Введите колличевство ожидаемых значений'))\n",
    "    a = np.array([(a, (input('Введите ченить'))) for a in range(a2)])\n",
    "    print(a)\n",
    "    \n",
    "    "
   ]
  },
  {
   "cell_type": "code",
   "execution_count": null,
   "metadata": {},
   "outputs": [],
   "source": []
  }
 ],
 "metadata": {
  "interpreter": {
   "hash": "ad2bdc8ecc057115af97d19610ffacc2b4e99fae6737bb82f5d7fb13d2f2c186"
  },
  "kernelspec": {
   "display_name": "Python 3.9.7 ('base')",
   "language": "python",
   "name": "python3"
  },
  "language_info": {
   "codemirror_mode": {
    "name": "ipython",
    "version": 3
   },
   "file_extension": ".py",
   "mimetype": "text/x-python",
   "name": "python",
   "nbconvert_exporter": "python",
   "pygments_lexer": "ipython3",
   "version": "3.9.7"
  },
  "orig_nbformat": 4
 },
 "nbformat": 4,
 "nbformat_minor": 2
}
