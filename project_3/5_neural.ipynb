{
 "cells": [
  {
   "cell_type": "markdown",
   "metadata": {},
   "source": [
    "Наша цель — создать нейронную сеть для предсказания уровня владения Python (рейтинга Finxter), исходя из пяти входных признаков (ответов на вопросы):\n",
    "WEEK — сколько часов за последние семь дней вы работали с кодом на Python?\n",
    "YEARS — сколько лет назад вы начали изучать компьютерные науки?\n",
    "BOOKS — сколько книг по написанию кода стоит на ваших полках?\n",
    "PROJECTS — какой процент вашего времени, посвященного Python, вы тратите на разработку реальных проектов?\n",
    "EARN — сколько вы зарабатываете в месяц (округленно до тысяч долларов) благодаря своим профессиональным навыкам (в самом широком смысле)?\n",
    "Снова встанем на плечи гигантов и воспользуемся библиотекой scikit-learn (sklearn) для нейросетевой регрессии"
   ]
  },
  {
   "cell_type": "code",
   "execution_count": 15,
   "metadata": {},
   "outputs": [
    {
     "name": "stdout",
     "output_type": "stream",
     "text": [
      "[2787.94189489]\n"
     ]
    },
    {
     "name": "stderr",
     "output_type": "stream",
     "text": [
      "c:\\ProgramData\\Anaconda3\\lib\\site-packages\\sklearn\\neural_network\\_multilayer_perceptron.py:614: ConvergenceWarning: Stochastic Optimizer: Maximum iterations (1250) reached and the optimization hasn't converged yet.\n",
      "  warnings.warn(\n"
     ]
    }
   ],
   "source": [
    "from sklearn.neural_network import MLPRegressor\n",
    "import numpy as np\n",
    "\n",
    "## Данные опросника (WEEK, YEARS, BOOKS, PROJECTS, EARN, RATING)\n",
    "X = np.array(\n",
    "[[20, 11, 20, 30, 4000, 3000],\n",
    "[12, 4, 0, 0, 1000, 1500],\n",
    "[2, 0, 1, 10, 0, 1400],\n",
    "[35, 5, 10, 70, 6000, 3800],\n",
    "[30, 1, 4, 65, 0, 3900],\n",
    "[35, 1, 0, 0, 0, 100],\n",
    "[15, 1, 2, 25, 0, 3700],\n",
    "[40, 3, -1, 60, 1000, 2000],\n",
    "[40, 1, 2, 95, 0, 1000],\n",
    "[10, 0, 0, 0, 0, 1400],\n",
    "[30, 1, 0, 50, 0, 1700],\n",
    "[1, 0, 0, 45, 0, 1762],\n",
    "[10, 32, 10, 5, 0, 2400],\n",
    "[5, 35, 4, 0, 13000, 3900],\n",
    "[8, 9, 40, 30, 1000, 2625],\n",
    "[1, 0, 1, 0, 0, 1900],\n",
    "[1, 30, 10, 0, 1000, 1900],\n",
    "[7, 16, 5, 0, 0, 3000]])\n",
    "\n",
    "neural_net = MLPRegressor(max_iter = 1250).fit(X[:,:-1], X[:,-1]) # мы подаем на вход два вектора из \n",
    "res = neural_net.predict([[50, 3, 10, 50, 0]])\n",
    "print(res)"
   ]
  },
  {
   "cell_type": "code",
   "execution_count": 13,
   "metadata": {},
   "outputs": [
    {
     "data": {
      "text/plain": [
       "array([3000, 1500, 1400, 3800, 3900,  100, 3700, 2000, 1000, 1400, 1700,\n",
       "       1762, 2400, 3900, 2625, 1900, 1900, 3000])"
      ]
     },
     "execution_count": 13,
     "metadata": {},
     "output_type": "execute_result"
    }
   ],
   "source": [
    "X[:,-1] # то, что предсказываем "
   ]
  },
  {
   "cell_type": "code",
   "execution_count": 14,
   "metadata": {},
   "outputs": [
    {
     "data": {
      "text/plain": [
       "array([[   20,    11,    20,    30,  4000],\n",
       "       [   12,     4,     0,     0,  1000],\n",
       "       [    2,     0,     1,    10,     0],\n",
       "       [   35,     5,    10,    70,  6000],\n",
       "       [   30,     1,     4,    65,     0],\n",
       "       [   35,     1,     0,     0,     0],\n",
       "       [   15,     1,     2,    25,     0],\n",
       "       [   40,     3,    -1,    60,  1000],\n",
       "       [   40,     1,     2,    95,     0],\n",
       "       [   10,     0,     0,     0,     0],\n",
       "       [   30,     1,     0,    50,     0],\n",
       "       [    1,     0,     0,    45,     0],\n",
       "       [   10,    32,    10,     5,     0],\n",
       "       [    5,    35,     4,     0, 13000],\n",
       "       [    8,     9,    40,    30,  1000],\n",
       "       [    1,     0,     1,     0,     0],\n",
       "       [    1,    30,    10,     0,  1000],\n",
       "       [    7,    16,     5,     0,     0]])"
      ]
     },
     "execution_count": 14,
     "metadata": {},
     "output_type": "execute_result"
    }
   ],
   "source": [
    "X[:,:-1] #остальной сет"
   ]
  },
  {
   "cell_type": "code",
   "execution_count": null,
   "metadata": {},
   "outputs": [],
   "source": []
  }
 ],
 "metadata": {
  "interpreter": {
   "hash": "ad2bdc8ecc057115af97d19610ffacc2b4e99fae6737bb82f5d7fb13d2f2c186"
  },
  "kernelspec": {
   "display_name": "Python 3.9.7 ('base')",
   "language": "python",
   "name": "python3"
  },
  "language_info": {
   "codemirror_mode": {
    "name": "ipython",
    "version": 3
   },
   "file_extension": ".py",
   "mimetype": "text/x-python",
   "name": "python",
   "nbconvert_exporter": "python",
   "pygments_lexer": "ipython3",
   "version": "3.9.7"
  },
  "orig_nbformat": 4
 },
 "nbformat": 4,
 "nbformat_minor": 2
}
