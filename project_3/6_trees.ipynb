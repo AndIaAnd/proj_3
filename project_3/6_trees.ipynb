{
 "cells": [
  {
   "cell_type": "markdown",
   "metadata": {},
   "source": [
    "создадим систему решений на базе дерева решений, которое будет предсказывать возможный выбор профессии на основе интересов, от 0 до 10"
   ]
  },
  {
   "cell_type": "code",
   "execution_count": 41,
   "metadata": {},
   "outputs": [
    {
     "name": "stdout",
     "output_type": "stream",
     "text": [
      "['linguistics']\n"
     ]
    }
   ],
   "source": [
    "from sklearn import tree\n",
    "import numpy as np\n",
    "\n",
    "# data \n",
    "## Данные: оценки студентов по (математика, языки, творческие\n",
    "## способности) --> предмет для изучения\n",
    "X = np.array([[9, 5, 6, \"computer science\"],\n",
    "[1, 8, 1, \"linguistics\"],\n",
    "[5, 7, 9, \"art\"]])\n",
    "\n",
    "tr = tree.DecisionTreeClassifier().fit(X[:,:-1], X[:,-1])\n",
    "\n",
    "## \n",
    "student_1 = tr.predict([[3, 7, 9]])\n",
    "print(student_1)\n"
   ]
  },
  {
   "cell_type": "code",
   "execution_count": null,
   "metadata": {},
   "outputs": [],
   "source": []
  }
 ],
 "metadata": {
  "interpreter": {
   "hash": "ad2bdc8ecc057115af97d19610ffacc2b4e99fae6737bb82f5d7fb13d2f2c186"
  },
  "kernelspec": {
   "display_name": "Python 3.9.7 ('base')",
   "language": "python",
   "name": "python3"
  },
  "language_info": {
   "codemirror_mode": {
    "name": "ipython",
    "version": 3
   },
   "file_extension": ".py",
   "mimetype": "text/x-python",
   "name": "python",
   "nbconvert_exporter": "python",
   "pygments_lexer": "ipython3",
   "version": "3.9.7"
  },
  "orig_nbformat": 4
 },
 "nbformat": 4,
 "nbformat_minor": 2
}
