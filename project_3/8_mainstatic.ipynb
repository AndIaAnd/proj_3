{
 "cells": [
  {
   "cell_type": "markdown",
   "metadata": {},
   "source": [
    "этом разделе рассказывается, как вычислить среднее значение, стандартное отклонение и дисперсию по одной из осей координат. Вычисления этих трех\n",
    "величин очень похожи; если вы разберетесь с одной, то и остальные будут для вас понятны.\n",
    "Среднее арифметическое, дисперсия, стандартное отклонение"
   ]
  },
  {
   "cell_type": "code",
   "execution_count": 1,
   "metadata": {},
   "outputs": [
    {
     "name": "stdout",
     "output_type": "stream",
     "text": [
      "Averages: [10.   1.5  7.   6.   3. ]\n",
      "Variances: [2.5  0.25 8.5  4.5  0.  ]\n",
      "Standard Deviations: [1.58113883 0.5        2.91547595 2.12132034 0.        ]\n"
     ]
    }
   ],
   "source": [
    "## Зависимости\n",
    "import numpy as np\n",
    "## Данные о курсах акций: 5 компаний\n",
    "## (строка=[курс_день_1, курс_день_2, ...])\n",
    "x = np.array([[8, 9, 11, 12],\n",
    "[1, 2, 2, 1],\n",
    "[2, 8, 9, 9],\n",
    "[9, 6, 6, 3],\n",
    "[3, 3, 3, 3]])\n",
    "\n",
    "avg, var, std = np.average(x, axis = 1), np.var(x, axis = 1), np.std(x , axis = 1)\n",
    "print(\"Averages: \" + str(avg))\n",
    "print(\"Variances: \" + str(var))\n",
    "print(\"Standard Deviations: \" + str(std))"
   ]
  },
  {
   "cell_type": "code",
   "execution_count": 16,
   "metadata": {},
   "outputs": [
    {
     "data": {
      "text/plain": [
       "array([[0.00766775, 0.00862622, 0.01054315, 0.01150162],\n",
       "       [0.00095847, 0.00191694, 0.00191694, 0.00095847],\n",
       "       [0.00191694, 0.00766775, 0.00862622, 0.00862622],\n",
       "       [0.00862622, 0.00575081, 0.00575081, 0.00287541],\n",
       "       [0.00287541, 0.00287541, 0.00287541, 0.00287541]])"
      ]
     },
     "execution_count": 16,
     "metadata": {},
     "output_type": "execute_result"
    }
   ],
   "source": [
    "a = np.array([x * (0.314 ** 6) for x in x])\n",
    "a"
   ]
  },
  {
   "cell_type": "code",
   "execution_count": 17,
   "metadata": {},
   "outputs": [
    {
     "name": "stdout",
     "output_type": "stream",
     "text": [
      "Averages: [0.00958469 0.0014377  0.00670928 0.00575081 0.00287541]\n",
      "Variances: [2.29665513e-06 2.29665513e-07 7.80862744e-06 4.13397923e-06\n",
      " 0.00000000e+00]\n",
      "Standard Deviations: [0.00151547 0.00047923 0.00279439 0.00203322 0.        ]\n"
     ]
    }
   ],
   "source": [
    "avg, var, std = np.average(a, axis = 1), np.var(a, axis = 1), np.std(a , axis = 1)\n",
    "print(\"Averages: \" + str(avg))\n",
    "print(\"Variances: \" + str(var))\n",
    "print(\"Standard Deviations: \" + str(std))"
   ]
  },
  {
   "cell_type": "code",
   "execution_count": null,
   "metadata": {},
   "outputs": [],
   "source": []
  }
 ],
 "metadata": {
  "interpreter": {
   "hash": "ad2bdc8ecc057115af97d19610ffacc2b4e99fae6737bb82f5d7fb13d2f2c186"
  },
  "kernelspec": {
   "display_name": "Python 3.9.7 ('base')",
   "language": "python",
   "name": "python3"
  },
  "language_info": {
   "codemirror_mode": {
    "name": "ipython",
    "version": 3
   },
   "file_extension": ".py",
   "mimetype": "text/x-python",
   "name": "python",
   "nbconvert_exporter": "python",
   "pygments_lexer": "ipython3",
   "version": "3.9.7"
  },
  "orig_nbformat": 4
 },
 "nbformat": 4,
 "nbformat_minor": 2
}
